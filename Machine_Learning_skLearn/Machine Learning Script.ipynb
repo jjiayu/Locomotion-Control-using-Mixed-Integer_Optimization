{
 "cells": [
  {
   "cell_type": "code",
   "execution_count": 1,
   "metadata": {},
   "outputs": [],
   "source": [
    "# Load Dataset using Pandas\n",
    "import pandas as pd \n",
    "dataset = pd.read_csv(\"/Users/jiayu/Dropbox/Half_Cheetah_Gait_Discovery_Results/Boxy_Force_Limit/10_Percent_Phaselb/5_SmoothMotion_with_FixedOrientation/with_TimeIntegralCost/0_Degrees/database-20191024T192944.csv\") \n",
    "target = dataset[\"Gait\"]\n",
    "data = dataset\n",
    "del data[\"Gait\"]"
   ]
  },
  {
   "cell_type": "code",
   "execution_count": 2,
   "metadata": {},
   "outputs": [
    {
     "data": {
      "text/plain": [
       "SVC(C=100.0, cache_size=200, class_weight=None, coef0=0.0,\n",
       "    decision_function_shape='ovr', degree=3, gamma=0.001, kernel='rbf',\n",
       "    max_iter=-1, probability=False, random_state=None, shrinking=True,\n",
       "    tol=0.001, verbose=False)"
      ]
     },
     "execution_count": 2,
     "metadata": {},
     "output_type": "execute_result"
    }
   ],
   "source": [
    "# Learn the mapping\n",
    "from sklearn import svm\n",
    "clf = svm.SVC(gamma=0.001, C=100.)\n",
    "clf.fit(data[:-1], target[:-1]) "
   ]
  },
  {
   "cell_type": "code",
   "execution_count": 8,
   "metadata": {},
   "outputs": [
    {
     "data": {
      "text/html": [
       "<div>\n",
       "<style scoped>\n",
       "    .dataframe tbody tr th:only-of-type {\n",
       "        vertical-align: middle;\n",
       "    }\n",
       "\n",
       "    .dataframe tbody tr th {\n",
       "        vertical-align: top;\n",
       "    }\n",
       "\n",
       "    .dataframe thead th {\n",
       "        text-align: right;\n",
       "    }\n",
       "</style>\n",
       "<table border=\"1\" class=\"dataframe\">\n",
       "  <thead>\n",
       "    <tr style=\"text-align: right;\">\n",
       "      <th></th>\n",
       "      <th>StridePeriod</th>\n",
       "      <th>Speed</th>\n",
       "    </tr>\n",
       "  </thead>\n",
       "  <tbody>\n",
       "    <tr>\n",
       "      <th>1</th>\n",
       "      <td>0.6</td>\n",
       "      <td>2.3</td>\n",
       "    </tr>\n",
       "    <tr>\n",
       "      <th>2</th>\n",
       "      <td>0.8</td>\n",
       "      <td>2.3</td>\n",
       "    </tr>\n",
       "    <tr>\n",
       "      <th>3</th>\n",
       "      <td>1.0</td>\n",
       "      <td>2.3</td>\n",
       "    </tr>\n",
       "    <tr>\n",
       "      <th>4</th>\n",
       "      <td>0.4</td>\n",
       "      <td>2.1</td>\n",
       "    </tr>\n",
       "    <tr>\n",
       "      <th>5</th>\n",
       "      <td>0.6</td>\n",
       "      <td>2.1</td>\n",
       "    </tr>\n",
       "    <tr>\n",
       "      <th>...</th>\n",
       "      <td>...</td>\n",
       "      <td>...</td>\n",
       "    </tr>\n",
       "    <tr>\n",
       "      <th>65</th>\n",
       "      <td>0.8</td>\n",
       "      <td>0.3</td>\n",
       "    </tr>\n",
       "    <tr>\n",
       "      <th>66</th>\n",
       "      <td>1.0</td>\n",
       "      <td>0.3</td>\n",
       "    </tr>\n",
       "    <tr>\n",
       "      <th>67</th>\n",
       "      <td>1.2</td>\n",
       "      <td>0.3</td>\n",
       "    </tr>\n",
       "    <tr>\n",
       "      <th>68</th>\n",
       "      <td>1.4</td>\n",
       "      <td>0.3</td>\n",
       "    </tr>\n",
       "    <tr>\n",
       "      <th>69</th>\n",
       "      <td>1.6</td>\n",
       "      <td>0.3</td>\n",
       "    </tr>\n",
       "  </tbody>\n",
       "</table>\n",
       "<p>69 rows × 2 columns</p>\n",
       "</div>"
      ],
      "text/plain": [
       "    StridePeriod  Speed\n",
       "1            0.6    2.3\n",
       "2            0.8    2.3\n",
       "3            1.0    2.3\n",
       "4            0.4    2.1\n",
       "5            0.6    2.1\n",
       "..           ...    ...\n",
       "65           0.8    0.3\n",
       "66           1.0    0.3\n",
       "67           1.2    0.3\n",
       "68           1.4    0.3\n",
       "69           1.6    0.3\n",
       "\n",
       "[69 rows x 2 columns]"
      ]
     },
     "execution_count": 8,
     "metadata": {},
     "output_type": "execute_result"
    }
   ],
   "source": [
    "data[1:]"
   ]
  },
  {
   "cell_type": "code",
   "execution_count": 9,
   "metadata": {},
   "outputs": [
    {
     "data": {
      "text/plain": [
       "array(['Bounding-D', 'Bounding-D', 'Bounding-D', 'Bounding-D',\n",
       "       'Bounding-D', 'Bounding-D', 'Bounding-D', 'Bounding-D',\n",
       "       'Bounding-D', 'Bounding-D', 'Bounding-D', 'Bounding-D',\n",
       "       'Bounding-D', 'Bounding-D', 'Bounding-D', 'Bounding-D',\n",
       "       'Bounding-D', 'Bounding-D', 'Bounding-D', 'Bounding-D',\n",
       "       'Bounding-D', 'Bounding-D', 'Bounding-D', 'Bounding-D',\n",
       "       'Bounding-D', 'Bounding-D', 'Bounding-D', 'Bounding-D',\n",
       "       'Bounding-D', 'Bounding-D', 'Bounding-D', 'Bounding-D',\n",
       "       'Bounding-D', 'Bounding-D', 'Bounding-D', 'Bounding-D',\n",
       "       'Bounding-D', 'Bounding-D', 'Bounding-D', 'Bounding-D',\n",
       "       'Bounding-D', 'Walking-S', 'Walking-S', 'Walking-S', 'Bounding-D',\n",
       "       'Bounding-D', 'Bounding-D', 'Bounding-D', 'Walking-S', 'Walking-S',\n",
       "       'Walking-S', 'Walking-S', 'Walking-S', 'Bounding-D', 'Bounding-D',\n",
       "       'Walking-S', 'Walking-S', 'Walking-S', 'Walking-S', 'Walking-S',\n",
       "       'Walking-S', 'Walking-S', 'Walking-S', 'Walking-S', 'Walking-S',\n",
       "       'Walking-S', 'Walking-S', 'Walking-S', 'Walking-S'], dtype=object)"
      ]
     },
     "execution_count": 9,
     "metadata": {},
     "output_type": "execute_result"
    }
   ],
   "source": [
    "# Predict\n",
    "clf.predict(data[1:])"
   ]
  }
 ],
 "metadata": {
  "kernelspec": {
   "display_name": "Python 3",
   "language": "python",
   "name": "python3"
  },
  "language_info": {
   "codemirror_mode": {
    "name": "ipython",
    "version": 3
   },
   "file_extension": ".py",
   "mimetype": "text/x-python",
   "name": "python",
   "nbconvert_exporter": "python",
   "pygments_lexer": "ipython3",
   "version": "3.7.4"
  }
 },
 "nbformat": 4,
 "nbformat_minor": 2
}
