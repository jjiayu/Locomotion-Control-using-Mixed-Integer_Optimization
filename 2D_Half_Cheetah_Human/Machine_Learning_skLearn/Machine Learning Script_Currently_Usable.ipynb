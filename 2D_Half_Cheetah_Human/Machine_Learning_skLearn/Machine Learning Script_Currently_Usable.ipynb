{
 "cells": [
  {
   "cell_type": "code",
   "execution_count": 191,
   "metadata": {},
   "outputs": [
    {
     "name": "stdout",
     "output_type": "stream",
     "text": [
      "!!Define the Varaibles in the section below!!\n"
     ]
    }
   ],
   "source": [
    "# Important Working Procedure for this script\n",
    "#  Step 1: Define the path for the training data set\n",
    "#  Step 2: Define the weights of samples (uniform or distance)\n",
    "#  Step 3: Define the path for storing gait prediction result of the test set\n",
    "\n",
    "print(\"!!Define the Varaibles in the section below!!\")"
   ]
  },
  {
   "cell_type": "code",
   "execution_count": 192,
   "metadata": {},
   "outputs": [],
   "source": [
    "# Set up the variables before running the rest of the script!\n",
    "# Set up Important Variables\n",
    "\n",
    "#MiniForce 0 Degrees\n",
    "#databasePath = \"/home/jiayu/Dropbox/2D_ANYmal_Gait_Discovery/10_Percent_Phaselb/BoundingBoxWidth_0.5_Height_0.2/TangentialDesiredSpeed/1_MiniForces/0_Degrees/database-20200221T133542.csv\"\n",
    "\n",
    "#MiniBodyVib 0 Degrees\n",
    "#databasePath = \"/home/jiayu/Dropbox/2D_ANYmal_Gait_Discovery/10_Percent_Phaselb/BoundingBoxWidth_0.5_Height_0.2/TangentialDesiredSpeed/5_SmoothMotion/0_Degrees/database-20200221T134502.csv\"\n",
    "\n",
    "#MiniBodyVib 20 Degrees\n",
    "databasePath = \"/home/jiayu/Dropbox/2D_ANYmal_Gait_Discovery/10_Percent_Phaselb/BoundingBoxWidth_0.5_Height_0.2/TangentialDesiredSpeed/5_SmoothMotion/20_Degrees/database-20200221T133951.csv\"\n",
    "\n",
    "weight_list = ['distance'] #another option uniform/distance\n",
    "\n",
    "# Define number of neighbors to be considered\n",
    "n_neighbors = 2\n",
    "\n",
    "# For test set\n",
    "#Mini Force 0 Degrees\n",
    "#TestSetSamplePath = \"/home/jiayu/Dropbox/2D_ANYmal_Gait_Discovery/10_Percent_Phaselb/BoundingBoxWidth_0.5_Height_0.2/TangentialDesiredSpeed/1_MiniForces/0_Degrees/InitialGuess/TestSet_TaskSamples-20200223T173907.csv\"\n",
    "#PredictionResultPath = \"/home/jiayu/Dropbox/2D_ANYmal_Gait_Discovery/10_Percent_Phaselb/BoundingBoxWidth_0.5_Height_0.2/TangentialDesiredSpeed/1_MiniForces/0_Degrees/InitialGuess/Prediction_Result.csv\"\n",
    "\n",
    "#Mini Vib 0 Degrees\n",
    "#TestSetSamplePath = \"/home/jiayu/Dropbox/2D_ANYmal_Gait_Discovery/10_Percent_Phaselb/BoundingBoxWidth_0.5_Height_0.2/TangentialDesiredSpeed/5_SmoothMotion/0_Degrees/InitialGuess/TestSet_TaskSamples-20200223T191222.csv\"\n",
    "#PredictionResultPath = \"/home/jiayu/Dropbox/2D_ANYmal_Gait_Discovery/10_Percent_Phaselb/BoundingBoxWidth_0.5_Height_0.2/TangentialDesiredSpeed/5_SmoothMotion/0_Degrees/InitialGuess/Prediction_Result.csv\"\n",
    "\n",
    "#MiniBodyVib 20 Degrees\n",
    "TestSetSamplePath = \"/home/jiayu/Dropbox/2D_ANYmal_Gait_Discovery/10_Percent_Phaselb/BoundingBoxWidth_0.5_Height_0.2/TangentialDesiredSpeed/5_SmoothMotion/20_Degrees/InitialGuess/TestSet_TaskSamples-20200223T213225.csv\"\n",
    "PredictionResultPath = \"/home/jiayu/Dropbox/2D_ANYmal_Gait_Discovery/10_Percent_Phaselb/BoundingBoxWidth_0.5_Height_0.2/TangentialDesiredSpeed/5_SmoothMotion/20_Degrees/InitialGuess/Prediction_Result.csv\"\n"
   ]
  },
  {
   "cell_type": "code",
   "execution_count": 193,
   "metadata": {},
   "outputs": [
    {
     "name": "stdout",
     "output_type": "stream",
     "text": [
      "Automatically created module for IPython interactive environment\n"
     ]
    }
   ],
   "source": [
    "# Load Data\n",
    "# Gait Mapping Generation using K-Nearest Neighbor\n",
    "# with Plot function\n",
    "print(__doc__)\n",
    "\n",
    "import numpy as np\n",
    "import matplotlib.pyplot as plt\n",
    "from matplotlib.colors import ListedColormap\n",
    "from sklearn import neighbors, datasets\n",
    "from sklearn.model_selection import train_test_split\n",
    "\n",
    "# Load data\n",
    "import pandas as pd\n",
    "dataset = pd.read_csv(databasePath) "
   ]
  },
  {
   "cell_type": "code",
   "execution_count": 194,
   "metadata": {},
   "outputs": [
    {
     "name": "stdout",
     "output_type": "stream",
     "text": [
      "Infeasible       35\n",
      "Galloping        21\n",
      "Bounding-D       10\n",
      "Walking-S         9\n",
      "Pronking          5\n",
      "Sync-HindLand     3\n",
      "Bounding-S        2\n",
      "Name: Gait, dtype: int64\n"
     ]
    },
    {
     "data": {
      "image/png": "[encoded data removed]",
      "text/plain": [
       "<Figure size 432x288 with 1 Axes>"
      ]
     },
     "metadata": {
      "needs_background": "light"
     },
     "output_type": "display_data"
    }
   ],
   "source": [
    "# Statistics of dataset\n",
    "class_counts = dataset[\"Gait\"].value_counts()\n",
    "ax = class_counts.plot(kind=\"bar\")\n",
    "print(class_counts)"
   ]
  },
  {
   "cell_type": "code",
   "execution_count": 195,
   "metadata": {},
   "outputs": [],
   "source": [
    "y = dataset[\"GaitNumber\"]\n",
    "X = dataset\n",
    "del X[\"Gait\"]\n",
    "del X[\"GaitNumber\"]\n",
    "#    Convert to Numpy array\n",
    "X = X.to_numpy()\n",
    "y = y.to_numpy()\n",
    "\n",
    "#X_train, X_test, y_train, y_test = train_test_split(X, y, test_size=0.2, stratify = y)\n",
    "X_train = X\n",
    "y_train = y"
   ]
  },
  {
   "cell_type": "code",
   "execution_count": 196,
   "metadata": {
    "scrolled": true
   },
   "outputs": [
    {
     "data": {
      "image/png": "[encoded data removed]",
      "text/plain": [
       "<Figure size 432x288 with 1 Axes>"
      ]
     },
     "metadata": {
      "needs_background": "light"
     },
     "output_type": "display_data"
    }
   ],
   "source": [
    "from sklearn.neural_network import MLPClassifier\n",
    "\n",
    "h = .02  # step size in the mesh\n",
    "\n",
    "# Define color maps\n",
    "#             Walking-D  Walking-S  Trotting  Galloping Bounding-S Bounding-D Pronking Sync-Front Sync-HindInfeasible \n",
    "cmap_light = ['#14eb0f', '#10f9e7', '#750ce9','#ff1af0','#FFFF33','#fa1a0f','#f89f0d','#1323b7','#969191','#FFFFFF']\n",
    "cmap_bold =  ['#14eb0f', '#10f9e7', '#750ce9','#ff1af0','#FFFF33','#fa1a0f','#f89f0d','#1323b7','#969191','#FFFFFF']\n",
    "\n",
    "#             Walking-D  Walking-S Galloping Bounding-S Bounding-D Pronking Sync-Front Sync-HindInfeasible \n",
    "#cmap_light = ['#14eb0f', '#10f9e7','#ff1af0','#FFFF33','#fa1a0f','#f89f0d','#1323b7','#969191','#FFFFFF']\n",
    "#cmap_bold =  ['#14eb0f', '#10f9e7','#ff1af0','#FFFF33','#fa1a0f','#f89f0d','#1323b7','#969191','#FFFFFF']\n",
    "\n",
    "\n",
    "GaitNames = [ 'Walking-D', 'Walking-S','Trotting', 'Galloping', 'Bounding-S', 'Bounding-D', 'Pronking', 'Sync-Front', 'Sync-Hind','Infeasible']\n",
    "#GaitNames = [ 'Walking-D', 'Walking-S', 'Galloping', 'Bounding-S', 'Bounding-D', 'Pronking', 'Sync-Front', 'Sync-Hind','Infeasible']\n",
    "\n",
    "\n",
    "for weights in weight_list:\n",
    "#for weights in ['uniform', 'distance']:\n",
    "    # we create an instance of Neighbours Classifier and fit the data.\n",
    "    #clf = neighbors.KNeighborsClassifier(n_neighbors, weights=weights)\n",
    "    \n",
    "    clf = MLPClassifier(solver='lbfgs', alpha=1e-5, hidden_layer_sizes=(50,90,90), random_state=1)\n",
    "    \n",
    "    clf.fit(X_train, y_train)\n",
    "    \n",
    "    #print(clf.score(X_test, y_test))\n",
    "\n",
    "    # Plot the decision boundary. For that, we will assign a color to each\n",
    "    # point in the mesh [x_min, x_max]x[y_min, y_max].\n",
    "    x_min, x_max = X[:, 0].min() - 0.1, X[:, 0].max() + 0.1\n",
    "    y_min, y_max = X[:, 1].min() - 0.1, X[:, 1].max() + 0.1\n",
    "    xx, yy = np.meshgrid(np.arange(x_min, x_max, h),\n",
    "                         np.arange(y_min, y_max, h))\n",
    "    Z = clf.predict(np.c_[xx.ravel(), yy.ravel()])\n",
    "    # Put the result into a color plot\n",
    "    Z = Z.reshape(xx.shape)\n",
    "    \n",
    "    # Get unique labels, !BE CAREFUL of INDEXING!\n",
    "    result_unique_labels = np.unique(Z) #unique labels for classification result\n",
    "    color_mesh_temp = cmap_light[np.min(result_unique_labels)-1:np.max(result_unique_labels)] #build color map for classification result\n",
    "    sample_unique_labels = np.unique(y) #unique labels for training data\n",
    "    color_sample_temp = cmap_bold[np.min(sample_unique_labels)-1:np.max(sample_unique_labels)] #\n",
    "    color_mesh_temp = ListedColormap(color_mesh_temp)\n",
    "    color_sample_temp = ListedColormap(color_sample_temp)\n",
    "    \n",
    "    # Build gait name list, !BE CAREFUL of INDEXING!\n",
    "    result_gait_names = GaitNames[np.min(result_unique_labels)-2:np.max(result_unique_labels)] #gait name list for classification results\n",
    "    sample_gait_names = GaitNames[np.min(sample_unique_labels)-2:np.max(sample_unique_labels)] #gait name list for traininig samples\n",
    "    \n",
    "    \n",
    "    # Plot Figures\n",
    "    plt.figure()\n",
    "    plt.pcolormesh(xx, yy, Z, cmap=color_mesh_temp)\n",
    "    #cb = plt.colorbar()\n",
    "    #loc = np.arange(0,np.max(result_unique_labels)) + 1\n",
    "    #cb.set_ticks(loc)\n",
    "    #cb.set_ticklabels(result_gait_names)\n",
    "    plt.xlim([0.6, 1.6])\n",
    "    plt.ylim([0.2, 3.3])\n",
    "    plt.savefig(\"test.svg\")\n",
    "    \n",
    "    # Plot also the training points\n",
    "#    plt.scatter(X_train[:, 0], X_train[:, 1], c=y_train, cmap=color_sample_temp,\n",
    "#                edgecolor='k', s=50)\n",
    "#    plt.xlim(xx.min(), xx.max())\n",
    "#    plt.ylim(yy.min(), yy.max())\n",
    "#    plt.title(\"3-Class classification (k = %i, weights = '%s')\"\n",
    "#              % (n_neighbors, weights))\n",
    "#    cb = plt.colorbar()\n",
    "#    loc = np.arange(0,np.max(sample_unique_labels)) + 1\n",
    "#    cb.set_ticks(loc)\n",
    "#    cb.set_ticklabels(sample_gait_names)\n",
    "#    plt.xlim([0.3, 1.7])\n",
    "#    plt.ylim([0.2, 3.7])\n",
    "plt.show()\n",
    "\n",
    "\n",
    "\n",
    "#clf.predict_proba(x)"
   ]
  },
  {
   "cell_type": "code",
   "execution_count": 197,
   "metadata": {},
   "outputs": [
    {
     "data": {
      "text/plain": [
       "array([ 2,  4,  5,  6,  7,  9, 10])"
      ]
     },
     "execution_count": 197,
     "metadata": {},
     "output_type": "execute_result"
    }
   ],
   "source": [
    "result_unique_labels\n"
   ]
  },
  {
   "cell_type": "code",
   "execution_count": 198,
   "metadata": {},
   "outputs": [
    {
     "name": "stdout",
     "output_type": "stream",
     "text": [
      "['Galloping', 'Galloping', 'Walking-S', 'Galloping', 'Walking-S', 'Walking-S', 'Galloping', 'Bounding-D', 'Bounding-D', 'Bounding-D', 'Walking-S', 'Walking-S', 'Walking-S']\n",
      "[[0.00000000e+000 1.00000000e+000 5.84753351e-073 2.46988871e-167\n",
      "  7.10809596e-039 3.08358202e-082 0.00000000e+000]\n",
      " [2.11375268e-283 1.00000000e+000 2.96333094e-148 2.16236544e-261\n",
      "  2.24821593e-065 9.79951028e-153 0.00000000e+000]\n",
      " [1.00000000e+000 3.19169188e-107 0.00000000e+000 0.00000000e+000\n",
      "  5.15830884e-266 0.00000000e+000 0.00000000e+000]\n",
      " [0.00000000e+000 1.00000000e+000 1.76404197e-081 4.98550895e-167\n",
      "  1.19752444e-033 1.55106705e-085 0.00000000e+000]\n",
      " [1.00000000e+000 1.19658218e-094 0.00000000e+000 0.00000000e+000\n",
      "  9.51540983e-248 0.00000000e+000 0.00000000e+000]\n",
      " [1.00000000e+000 7.83769928e-079 0.00000000e+000 0.00000000e+000\n",
      "  2.68429918e-225 0.00000000e+000 0.00000000e+000]\n",
      " [5.00776857e-236 1.00000000e+000 6.54012721e-126 8.42445144e-212\n",
      "  1.34404328e-028 2.22859270e-122 0.00000000e+000]\n",
      " [0.00000000e+000 9.07832352e-158 1.37271308e-057 1.00000000e+000\n",
      "  1.05619977e-094 6.59606895e-052 3.23057888e-031]\n",
      " [0.00000000e+000 2.43954330e-210 6.33479922e-082 1.00000000e+000\n",
      "  1.49442257e-136 1.85300490e-070 1.33935280e-065]\n",
      " [0.00000000e+000 8.65367490e-170 1.19656977e-057 1.00000000e+000\n",
      "  1.27992625e-100 2.58446081e-045 2.02793895e-151]\n",
      " [1.00000000e+000 1.83347075e-058 0.00000000e+000 0.00000000e+000\n",
      "  4.46411395e-209 0.00000000e+000 0.00000000e+000]\n",
      " [1.00000000e+000 3.29002479e-044 0.00000000e+000 0.00000000e+000\n",
      "  3.96631765e-188 0.00000000e+000 0.00000000e+000]\n",
      " [1.00000000e+000 1.85555785e-019 0.00000000e+000 0.00000000e+000\n",
      "  1.70307176e-150 0.00000000e+000 0.00000000e+000]]\n"
     ]
    }
   ],
   "source": [
    "# Predict\n",
    "\n",
    "#  Load Test Set Task Samples and predict\n",
    "testSamples = pd.read_csv(TestSetSamplePath) \n",
    "testSamples = testSamples.to_numpy()\n",
    "testSampleGaitNumber = clf.predict(testSamples)\n",
    "testSampleGaitNumber_test = clf.predict_proba(testSamples)\n",
    "testSampleGaitLabels = []\n",
    "for gaitNumberTemp in testSampleGaitNumber:\n",
    "    testSampleGaitLabels.append(GaitNames[gaitNumberTemp-1])\n",
    "\n",
    "print(testSampleGaitLabels)\n",
    "print(testSampleGaitNumber_test)"
   ]
  },
  {
   "cell_type": "code",
   "execution_count": 199,
   "metadata": {},
   "outputs": [],
   "source": [
    "prediction_result = []\n",
    "for i in range(0,len(testSampleGaitNumber)):\n",
    "    prediction_result.append({\"StridePeriod\": testSamples[i,0], \"Speed\": testSamples[i,1], \"GaitNumber\": testSampleGaitNumber[i], \"Gait\": testSampleGaitLabels[i]})\n",
    "\n",
    "import csv\n",
    "with open(PredictionResultPath, 'w') as csvFile:\n",
    "    fields = ['StridePeriod', 'Speed', 'GaitNumber', 'Gait']\n",
    "    writer = csv.DictWriter(csvFile, fieldnames=fields)\n",
    "    writer.writeheader()\n",
    "    writer.writerows(prediction_result)"
   ]
  }
 ],
 "metadata": {
  "kernelspec": {
   "display_name": "Python 3",
   "language": "python",
   "name": "python3"
  },
  "language_info": {
   "codemirror_mode": {
    "name": "ipython",
    "version": 3
   },
   "file_extension": ".py",
   "mimetype": "text/x-python",
   "name": "python",
   "nbconvert_exporter": "python",
   "pygments_lexer": "ipython3",
   "version": "3.7.4"
  }
 },
 "nbformat": 4,
 "nbformat_minor": 2
}
