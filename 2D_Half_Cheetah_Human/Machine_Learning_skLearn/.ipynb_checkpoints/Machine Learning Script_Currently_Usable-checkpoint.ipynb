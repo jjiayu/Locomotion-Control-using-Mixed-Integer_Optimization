{
 "cells": [
  {
   "cell_type": "code",
   "execution_count": 281,
   "metadata": {},
   "outputs": [
    {
     "name": "stdout",
     "output_type": "stream",
     "text": [
      "!!Define the Varaibles in the section below!!\n"
     ]
    }
   ],
   "source": [
    "# Important Working Procedure for this script\n",
    "#  Step 1: Define the path for the training data set\n",
    "#  Step 2: Define the weights of samples (uniform or distance)\n",
    "#  Step 3: Define the path for storing gait prediction result of the test set\n",
    "\n",
    "print(\"!!Define the Varaibles in the section below!!\")"
   ]
  },
  {
   "cell_type": "code",
   "execution_count": 282,
   "metadata": {},
   "outputs": [],
   "source": [
    "# Set up the variables before running the rest of the script!\n",
    "# Set up Important Variables\n",
    "\n",
    "#MiniForce 0 Degrees\n",
    "#databasePath = \"/home/jiayu/Dropbox/ANYmalGaitDiscovery/10_Percent_Phaselb/BoundingBoxWidth_0.4/TangentialDesiredSpeed/1_MiniForces/0_Degrees/database-20200211T130303.csv\"\n",
    "\n",
    "#MiniBodyVib 0 Degrees\n",
    "#databasePath = \"/home/jiayu/Dropbox/ANYmalGaitDiscovery/10_Percent_Phaselb/BoundingBoxWidth_0.4/TangentialDesiredSpeed/5_SmoothMotion/0_Degrees/database-20200211T131231.csv\"\n",
    "\n",
    "#MiniBodyVib 20 Degrees\n",
    "databasePath = \"/home/jiayu/Dropbox/ANYmalGaitDiscovery/10_Percent_Phaselb/BoundingBoxWidth_0.4/TangentialDesiredSpeed/5_SmoothMotion/20_Degrees/database-20200211T132530.csv\"\n",
    "\n",
    "\n",
    "weight_list = ['distance'] #another option uniform/distance\n",
    "\n",
    "# Define number of neighbors to be considered\n",
    "n_neighbors = 2\n",
    "\n",
    "# For test setm\n",
    "#TestSetSamplePath = \"/Users/jiayu/Dropbox/GaitDiscoveryResult_withWrongVeloConstraint/Half_Cheetah_Gait_Discovery_Results/Boxy_Force_Limit/10_Percent_Phaselb/1_MiniForce/0_Degrees_Processed/TestSet/TestSet_TaskSamples-20191029T192221.csv\"\n",
    "\n",
    "#PredictionResultPath = \"/Users/jiayu/Dropbox/GaitDiscoveryResult_withWrongVeloConstraint/Half_Cheetah_Gait_Discovery_Results/Boxy_Force_Limit/10_Percent_Phaselb/1_MiniForce/0_Degrees_Processed/TestSet/Prediction_Result.csv\""
   ]
  },
  {
   "cell_type": "code",
   "execution_count": 283,
   "metadata": {},
   "outputs": [
    {
     "name": "stdout",
     "output_type": "stream",
     "text": [
      "Automatically created module for IPython interactive environment\n"
     ]
    }
   ],
   "source": [
    "# Load Data\n",
    "# Gait Mapping Generation using K-Nearest Neighbor\n",
    "# with Plot function\n",
    "print(__doc__)\n",
    "\n",
    "import numpy as np\n",
    "import matplotlib.pyplot as plt\n",
    "from matplotlib.colors import ListedColormap\n",
    "from sklearn import neighbors, datasets\n",
    "from sklearn.model_selection import train_test_split\n",
    "\n",
    "# Load data\n",
    "import pandas as pd\n",
    "dataset = pd.read_csv(databasePath) "
   ]
  },
  {
   "cell_type": "code",
   "execution_count": 284,
   "metadata": {},
   "outputs": [
    {
     "name": "stdout",
     "output_type": "stream",
     "text": [
      "Infeasible       43\n",
      "Pronking         20\n",
      "Galloping        16\n",
      "Bounding-D       11\n",
      "Walking-S        10\n",
      "Sync-HindLand     4\n",
      "Name: Gait, dtype: int64\n"
     ]
    },
    {
     "data": {
      "image/png": "[encoded data removed]",
      "text/plain": [
       "<Figure size 432x288 with 1 Axes>"
      ]
     },
     "metadata": {
      "needs_background": "light"
     },
     "output_type": "display_data"
    }
   ],
   "source": [
    "# Statistics of dataset\n",
    "class_counts = dataset[\"Gait\"].value_counts()\n",
    "ax = class_counts.plot(kind=\"bar\")\n",
    "print(class_counts)"
   ]
  },
  {
   "cell_type": "code",
   "execution_count": 265,
   "metadata": {},
   "outputs": [],
   "source": [
    "y = dataset[\"GaitNumber\"]\n",
    "X = dataset\n",
    "del X[\"Gait\"]\n",
    "del X[\"GaitNumber\"]\n",
    "#    Convert to Numpy array\n",
    "X = X.to_numpy()\n",
    "y = y.to_numpy()\n",
    "\n",
    "#X_train, X_test, y_train, y_test = train_test_split(X, y, test_size=0.2, stratify = y)\n",
    "X_train = X\n",
    "y_train = y"
   ]
  },
  {
   "cell_type": "code",
   "execution_count": 279,
   "metadata": {
    "scrolled": true
   },
   "outputs": [
    {
     "data": {
      "image/png": "[encoded data removed]",
      "text/plain": [
       "<Figure size 432x288 with 2 Axes>"
      ]
     },
     "metadata": {
      "needs_background": "light"
     },
     "output_type": "display_data"
    }
   ],
   "source": [
    "from sklearn.neural_network import MLPClassifier\n",
    "\n",
    "h = .02  # step size in the mesh\n",
    "\n",
    "# Define color maps\n",
    "#             Walking-D  Walking-S  Trotting  Galloping Bounding-S Bounding-D Pronking Sync-Front Sync-HindInfeasible \n",
    "cmap_light = ['#14eb0f', '#10f9e7', '#750ce9','#ff1af0','#FFFF33','#fa1a0f','#f89f0d','#1323b7','#969191','#FFFFFF']\n",
    "cmap_bold =  ['#14eb0f', '#10f9e7', '#750ce9','#ff1af0','#FFFF33','#fa1a0f','#f89f0d','#1323b7','#969191','#FFFFFF']\n",
    "\n",
    "#             Walking-D  Walking-S Galloping Bounding-S Bounding-D Pronking Sync-Front Sync-HindInfeasible \n",
    "#cmap_light = ['#14eb0f', '#10f9e7','#ff1af0','#FFFF33','#fa1a0f','#f89f0d','#1323b7','#969191','#FFFFFF']\n",
    "#cmap_bold =  ['#14eb0f', '#10f9e7','#ff1af0','#FFFF33','#fa1a0f','#f89f0d','#1323b7','#969191','#FFFFFF']\n",
    "\n",
    "\n",
    "GaitNames = [ 'Walking-D', 'Walking-S','Trotting', 'Galloping', 'Bounding-S', 'Bounding-D', 'Pronking', 'Sync-Front', 'Sync-Hind','Infeasible']\n",
    "#GaitNames = [ 'Walking-D', 'Walking-S', 'Galloping', 'Bounding-S', 'Bounding-D', 'Pronking', 'Sync-Front', 'Sync-Hind','Infeasible']\n",
    "\n",
    "\n",
    "for weights in weight_list:\n",
    "#for weights in ['uniform', 'distance']:\n",
    "    # we create an instance of Neighbours Classifier and fit the data.\n",
    "    clf = neighbors.KNeighborsClassifier(n_neighbors, weights=weights)\n",
    "    \n",
    "    #clf = MLPClassifier(solver='lbfgs', alpha=1e-5, hidden_layer_sizes=(32,50,50), random_state=1)\n",
    "    \n",
    "    clf.fit(X_train, y_train)\n",
    "    \n",
    "    #print(clf.score(X_test, y_test))\n",
    "\n",
    "    # Plot the decision boundary. For that, we will assign a color to each\n",
    "    # point in the mesh [x_min, x_max]x[y_min, y_max].\n",
    "    x_min, x_max = X[:, 0].min() - 0.1, X[:, 0].max() + 0.1\n",
    "    y_min, y_max = X[:, 1].min() - 0.1, X[:, 1].max() + 0.1\n",
    "    xx, yy = np.meshgrid(np.arange(x_min, x_max, h),\n",
    "                         np.arange(y_min, y_max, h))\n",
    "    Z = clf.predict(np.c_[xx.ravel(), yy.ravel()])\n",
    "    # Put the result into a color plot\n",
    "    Z = Z.reshape(xx.shape)\n",
    "    \n",
    "    # Get unique labels, !BE CAREFUL of INDEXING!\n",
    "    result_unique_labels = np.unique(Z) #unique labels for classification result\n",
    "    color_mesh_temp = cmap_light[np.min(result_unique_labels)-1:np.max(result_unique_labels)] #build color map for classification result\n",
    "    sample_unique_labels = np.unique(y) #unique labels for training data\n",
    "    color_sample_temp = cmap_bold[np.min(sample_unique_labels)-1:np.max(sample_unique_labels)] #\n",
    "    color_mesh_temp = ListedColormap(color_mesh_temp)\n",
    "    color_sample_temp = ListedColormap(color_sample_temp)\n",
    "    \n",
    "    # Build gait name list, !BE CAREFUL of INDEXING!\n",
    "    result_gait_names = GaitNames[np.min(result_unique_labels)-1:np.max(result_unique_labels)] #gait name list for classification results\n",
    "    sample_gait_names = GaitNames[np.min(sample_unique_labels)-1:np.max(sample_unique_labels)] #gait name list for traininig samples\n",
    "    \n",
    "    \n",
    "    # Plot Figures\n",
    "    plt.figure()\n",
    "    plt.pcolormesh(xx, yy, Z, cmap=color_mesh_temp)\n",
    "    cb = plt.colorbar()\n",
    "    loc = np.arange(0,np.max(result_unique_labels)) + 1\n",
    "    cb.set_ticks(loc)\n",
    "    cb.set_ticklabels(result_gait_names)\n",
    "    plt.xlim([0.6, 1.6])\n",
    "    plt.ylim([0.2, 3.3])\n",
    "\n",
    "    \n",
    "    # Plot also the training points\n",
    "#    plt.scatter(X_train[:, 0], X_train[:, 1], c=y_train, cmap=color_sample_temp,\n",
    "#                edgecolor='k', s=50)\n",
    "#    plt.xlim(xx.min(), xx.max())\n",
    "#    plt.ylim(yy.min(), yy.max())\n",
    "#    plt.title(\"3-Class classification (k = %i, weights = '%s')\"\n",
    "#              % (n_neighbors, weights))\n",
    "#    cb = plt.colorbar()\n",
    "#    loc = np.arange(0,np.max(sample_unique_labels)) + 1\n",
    "#    cb.set_ticks(loc)\n",
    "#    cb.set_ticklabels(sample_gait_names)\n",
    "#    plt.xlim([0.3, 1.7])\n",
    "#    plt.ylim([0.2, 3.7])\n",
    "plt.show()\n",
    "\n",
    "\n",
    "#clf.predict_proba(x)"
   ]
  },
  {
   "cell_type": "code",
   "execution_count": 277,
   "metadata": {},
   "outputs": [
    {
     "data": {
      "text/plain": [
       "'Infeasible'"
      ]
     },
     "execution_count": 277,
     "metadata": {},
     "output_type": "execute_result"
    }
   ],
   "source": [
    "result_unique_labels\n",
    "GaitNames[result_unique_labels[4]]"
   ]
  },
  {
   "cell_type": "code",
   "execution_count": 67,
   "metadata": {},
   "outputs": [
    {
     "ename": "NameError",
     "evalue": "name 'TestSetSamplePath' is not defined",
     "output_type": "error",
     "traceback": [
      "\u001b[0;31m---------------------------------------------------------------------------\u001b[0m",
      "\u001b[0;31mNameError\u001b[0m                                 Traceback (most recent call last)",
      "\u001b[0;32m<ipython-input-67-6cc818c76c21>\u001b[0m in \u001b[0;36m<module>\u001b[0;34m\u001b[0m\n\u001b[1;32m      2\u001b[0m \u001b[0;34m\u001b[0m\u001b[0m\n\u001b[1;32m      3\u001b[0m \u001b[0;31m#  Load Test Set Task Samples and predict\u001b[0m\u001b[0;34m\u001b[0m\u001b[0;34m\u001b[0m\u001b[0;34m\u001b[0m\u001b[0m\n\u001b[0;32m----> 4\u001b[0;31m \u001b[0mtestSamples\u001b[0m \u001b[0;34m=\u001b[0m \u001b[0mpd\u001b[0m\u001b[0;34m.\u001b[0m\u001b[0mread_csv\u001b[0m\u001b[0;34m(\u001b[0m\u001b[0mTestSetSamplePath\u001b[0m\u001b[0;34m)\u001b[0m\u001b[0;34m\u001b[0m\u001b[0;34m\u001b[0m\u001b[0m\n\u001b[0m\u001b[1;32m      5\u001b[0m \u001b[0mtestSamples\u001b[0m \u001b[0;34m=\u001b[0m \u001b[0mtestSamples\u001b[0m\u001b[0;34m.\u001b[0m\u001b[0mto_numpy\u001b[0m\u001b[0;34m(\u001b[0m\u001b[0;34m)\u001b[0m\u001b[0;34m\u001b[0m\u001b[0;34m\u001b[0m\u001b[0m\n\u001b[1;32m      6\u001b[0m \u001b[0mtestSampleGaitNumber\u001b[0m \u001b[0;34m=\u001b[0m \u001b[0mclf\u001b[0m\u001b[0;34m.\u001b[0m\u001b[0mpredict\u001b[0m\u001b[0;34m(\u001b[0m\u001b[0mtestSamples\u001b[0m\u001b[0;34m)\u001b[0m\u001b[0;34m\u001b[0m\u001b[0;34m\u001b[0m\u001b[0m\n",
      "\u001b[0;31mNameError\u001b[0m: name 'TestSetSamplePath' is not defined"
     ]
    }
   ],
   "source": [
    "# Predict\n",
    "\n",
    "#  Load Test Set Task Samples and predict\n",
    "testSamples = pd.read_csv(TestSetSamplePath) \n",
    "testSamples = testSamples.to_numpy()\n",
    "testSampleGaitNumber = clf.predict(testSamples)\n",
    "testSampleGaitNumber_test = clf.predict_proba(testSamples)\n",
    "testSampleGaitLabels = []\n",
    "for gaitNumberTemp in testSampleGaitNumber:\n",
    "    testSampleGaitLabels.append(GaitNames[gaitNumberTemp-1])\n",
    "\n",
    "print(testSampleGaitLabels)\n",
    "print(testSampleGaitNumber_test)"
   ]
  },
  {
   "cell_type": "code",
   "execution_count": 13,
   "metadata": {},
   "outputs": [],
   "source": [
    "prediction_result = []\n",
    "for i in range(0,len(testSampleGaitNumber)):\n",
    "    prediction_result.append({\"StridePeriod\": testSamples[i,0], \"Speed\": testSamples[i,1], \"GaitNumber\": testSampleGaitNumber[i], \"Gait\": testSampleGaitLabels[i]})\n",
    "\n",
    "import csv\n",
    "with open(PredictionResultPath, 'w') as csvFile:\n",
    "    fields = ['StridePeriod', 'Speed', 'GaitNumber', 'Gait']\n",
    "    writer = csv.DictWriter(csvFile, fieldnames=fields)\n",
    "    writer.writeheader()\n",
    "    writer.writerows(prediction_result)"
   ]
  }
 ],
 "metadata": {
  "kernelspec": {
   "display_name": "Python 3",
   "language": "python",
   "name": "python3"
  },
  "language_info": {
   "codemirror_mode": {
    "name": "ipython",
    "version": 3
   },
   "file_extension": ".py",
   "mimetype": "text/x-python",
   "name": "python",
   "nbconvert_exporter": "python",
   "pygments_lexer": "ipython3",
   "version": "3.7.4"
  }
 },
 "nbformat": 4,
 "nbformat_minor": 2
}
